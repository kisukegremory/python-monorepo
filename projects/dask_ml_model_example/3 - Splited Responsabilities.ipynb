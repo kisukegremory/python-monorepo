{
 "cells": [
  {
   "cell_type": "code",
   "execution_count": 44,
   "id": "7bf069cd-04f3-4adb-8474-efd2a5b4fa9e",
   "metadata": {},
   "outputs": [],
   "source": [
    "import pandas as pd\n",
    "import matplotlib.pyplot as plt\n",
    "import seaborn as sns\n",
    "from sklearn.model_selection import train_test_split\n",
    "from sklearn.linear_model import LogisticRegression\n",
    "from sklearn.metrics import accuracy_score, classification_report, precision_score\n",
    "from sklearn.pipeline import Pipeline\n",
    "import numpy as np\n",
    "from src.pipelines import YesAndNoToBinaryTransformer, ReplaceTransformer, GetDummiesTransformer"
   ]
  },
  {
   "cell_type": "code",
   "execution_count": 3,
   "id": "c59cdc2a-fc15-4c16-8547-93849f7a7da7",
   "metadata": {},
   "outputs": [],
   "source": [
    "df = pd.read_csv(\"data/heart_2020_cleaned.csv\")"
   ]
  },
  {
   "cell_type": "code",
   "execution_count": 5,
   "id": "4208a159-d88a-440b-83a7-ce0631344415",
   "metadata": {},
   "outputs": [],
   "source": [
    "df['GoodSleep'] = df['SleepTime'].between(5,9).astype(int)\n",
    "df['GoodBMI'] = df['BMI'].between(15,25).astype(int)"
   ]
  },
  {
   "cell_type": "code",
   "execution_count": 9,
   "id": "3c9c34d0-6474-4224-b1de-fbc57e847b8d",
   "metadata": {},
   "outputs": [],
   "source": [
    "feature_preprocessor = Pipeline(\n",
    "    steps=[\n",
    "        (\"yes_and_no_tobinary\", YesAndNoToBinaryTransformer()),\n",
    "        (\"diabetic_replacer\",ReplaceTransformer('Diabetic',['Yes', 'No', 'No, borderline diabetes', 'Yes (during pregnancy)'], [1,0,0,0])),\n",
    "        (\"genhealth_replacer\",ReplaceTransformer('GenHealth',['Excellent','Very good', 'Fair', 'Good', 'Poor'],[5,4,3,2,1])),\n",
    "        (\"race_replacer\",ReplaceTransformer('Race',['American Indian/Alaskan Native','Black','Asian'], ['White','Other','Hispanic'])),\n",
    "        (\"age_replace\",ReplaceTransformer('AgeCategory',df['AgeCategory'].unique().tolist(),range(0,df['AgeCategory'].nunique()))),\n",
    "        (\"dummies\",GetDummiesTransformer(dummies_kwargs={'drop_first':True})),\n",
    "    ]\n",
    ")"
   ]
  },
  {
   "cell_type": "code",
   "execution_count": 10,
   "id": "3f5ff628-92d1-45c7-a8b7-1771c7e5e173",
   "metadata": {},
   "outputs": [],
   "source": [
    "df_processed = feature_preprocessor.fit_transform(df)\n",
    "\n",
    "X = df_processed.drop(['HeartDisease'],axis=1)\n",
    "y = df_processed[['HeartDisease']]\n",
    "\n",
    "X_train, X_test, y_train, y_test = train_test_split(X, y, stratify=y, test_size=0.2, random_state=42)"
   ]
  },
  {
   "cell_type": "code",
   "execution_count": 15,
   "id": "926c8257-a8f1-4ee0-b5e1-cdc28957608d",
   "metadata": {},
   "outputs": [
    {
     "name": "stdout",
     "output_type": "stream",
     "text": [
      "              precision    recall  f1-score   support\n",
      "\n",
      "           0       0.74      0.97      0.84     44836\n",
      "           1       0.72      0.21      0.32     19123\n",
      "\n",
      "    accuracy                           0.74     63959\n",
      "   macro avg       0.73      0.59      0.58     63959\n",
      "weighted avg       0.74      0.74      0.68     63959\n",
      "\n"
     ]
    }
   ],
   "source": [
    "lr = LogisticRegression(solver='liblinear',class_weight='balanced')\n",
    "lr.fit(X_train,y_train.values.ravel())\n",
    "\n",
    "y_pred_lr = lr.predict(X_test)\n",
    "print(classification_report(y_pred_lr,y_test))"
   ]
  },
  {
   "cell_type": "code",
   "execution_count": null,
   "id": "fe5011fb-00d9-4462-a9c7-4dce0012664e",
   "metadata": {},
   "outputs": [],
   "source": [
    "LogisticRegression("
   ]
  },
  {
   "cell_type": "code",
   "execution_count": 38,
   "id": "5036a511-6c7c-4748-8f90-0e58371a164a",
   "metadata": {},
   "outputs": [],
   "source": [
    "from skopt.space import Real, Integer, Categorical\n",
    "from skopt import BayesSearchCV\n",
    "from skopt.callbacks import DeltaYStopper,TimerCallback, VerboseCallback\n",
    "from skopt.utils import use_named_args\n",
    "from sklearn.model_selection import cross_val_score\n",
    "\n",
    "space  = [\n",
    "    Categorical(categories=['l1', 'l2'], name=\"penalty\"),\n",
    "    Categorical(categories=['balanced',None], name=\"class_weight\"),\n",
    "\n",
    "]\n",
    "lr = LogisticRegression(solver='liblinear')"
   ]
  },
  {
   "cell_type": "code",
   "execution_count": 30,
   "id": "c829b2a8-3d0a-4fe3-b1ac-340d4fc959ad",
   "metadata": {},
   "outputs": [
    {
     "data": {
      "text/plain": [
       "Categorical(categories=('balanced', None), prior=None)"
      ]
     },
     "execution_count": 30,
     "metadata": {},
     "output_type": "execute_result"
    }
   ],
   "source": [
    "Categorical(categories=['balanced',None], name=\"class_weight\")."
   ]
  },
  {
   "cell_type": "code",
   "execution_count": 46,
   "id": "3802a65b-6377-4a88-aaf2-9b86617af2b7",
   "metadata": {},
   "outputs": [
    {
     "name": "stdout",
     "output_type": "stream",
     "text": [
      "Iteration No: 1 started. Searching for the next optimal point.\n",
      "Iteration No: 1 ended. Search finished for the next optimal point.\n",
      "Time taken: 5.2103\n",
      "Function value obtained: -0.0890\n",
      "Current minimum: -0.0890\n",
      "Iteration No: 2 started. Searching for the next optimal point.\n",
      "Iteration No: 2 ended. Search finished for the next optimal point.\n",
      "Time taken: 4.0037\n",
      "Function value obtained: -0.7287\n",
      "Current minimum: -0.7287\n",
      "Iteration No: 3 started. Searching for the next optimal point.\n",
      "Iteration No: 3 ended. Search finished for the next optimal point.\n",
      "Time taken: 13.6950\n",
      "Function value obtained: -0.0889\n",
      "Current minimum: -0.7287\n",
      "Iteration No: 4 started. Searching for the next optimal point.\n",
      "Iteration No: 4 ended. Search finished for the next optimal point.\n",
      "Time taken: 4.0431\n",
      "Function value obtained: -0.7287\n",
      "Current minimum: -0.7287\n",
      "Iteration No: 5 started. Searching for the next optimal point.\n",
      "Iteration No: 5 ended. Search finished for the next optimal point.\n",
      "Time taken: 23.5417\n",
      "Function value obtained: -0.7287\n",
      "Current minimum: -0.7287\n",
      "Iteration No: 6 started. Searching for the next optimal point.\n",
      "Iteration No: 6 ended. Search finished for the next optimal point.\n",
      "Time taken: 4.7050\n",
      "Function value obtained: -0.0890\n",
      "Current minimum: -0.7287\n",
      "Iteration No: 7 started. Searching for the next optimal point.\n",
      "Iteration No: 7 ended. Search finished for the next optimal point.\n",
      "Time taken: 4.7116\n",
      "Function value obtained: -0.0890\n",
      "Current minimum: -0.7287\n",
      "Iteration No: 8 started. Searching for the next optimal point.\n",
      "Iteration No: 8 ended. Search finished for the next optimal point.\n",
      "Time taken: 4.7381\n",
      "Function value obtained: -0.0890\n",
      "Current minimum: -0.7287\n",
      "Iteration No: 9 started. Searching for the next optimal point.\n",
      "Iteration No: 9 ended. Search finished for the next optimal point.\n",
      "Time taken: 4.0252\n",
      "Function value obtained: -0.7287\n",
      "Current minimum: -0.7287\n",
      "Iteration No: 10 started. Searching for the next optimal point.\n",
      "Iteration No: 10 ended. Search finished for the next optimal point.\n",
      "Time taken: 25.7135\n",
      "Function value obtained: -0.7287\n",
      "Current minimum: -0.7287\n",
      "Iteration No: 11 started. Searching for the next optimal point.\n"
     ]
    },
    {
     "name": "stderr",
     "output_type": "stream",
     "text": [
      "C:\\Users\\aluga.com\\Desktop\\private-repos\\python-monorepo\\projects\\dask_ml_model_example\\.venv\\lib\\site-packages\\sklearn\\utils\\validation.py:993: DataConversionWarning: A column-vector y was passed when a 1d array was expected. Please change the shape of y to (n_samples, ), for example using ravel().\n",
      "  y = column_or_1d(y, warn=True)\n"
     ]
    },
    {
     "data": {
      "text/plain": [
       "BayesSearchCV(estimator=LogisticRegression(solver='liblinear'), n_iter=32,\n",
       "              n_jobs=2, random_state=0, scoring='recall',\n",
       "              search_spaces={'class_weight': Categorical(categories=('balanced', None), prior=None),\n",
       "                             'penalty': Categorical(categories=('l1', 'l2'), prior=None)})"
      ]
     },
     "execution_count": 46,
     "metadata": {},
     "output_type": "execute_result"
    }
   ],
   "source": [
    "opt = BayesSearchCV(\n",
    "    LogisticRegression(solver='liblinear'),\n",
    "    search_spaces={\n",
    "        \"penalty\":Categorical(categories=['l1', 'l2']),\n",
    "        \"class_weight\": Categorical(categories=['balanced',None])\n",
    "    },\n",
    "    n_iter=32,\n",
    "    n_jobs=2,\n",
    "    random_state=0,\n",
    "    scoring='recall'\n",
    ")\n",
    "\n",
    "opt.fit(X_train,y_train,callback=[TimerCallback(),VerboseCallback(32),DeltaYStopper(0.03)])"
   ]
  },
  {
   "cell_type": "code",
   "execution_count": 47,
   "id": "e81310db-e337-48af-aa5b-312e34176229",
   "metadata": {},
   "outputs": [
    {
     "name": "stdout",
     "output_type": "stream",
     "text": [
      "              precision    recall  f1-score   support\n",
      "\n",
      "           0       0.74      0.97      0.84     44836\n",
      "           1       0.72      0.21      0.32     19123\n",
      "\n",
      "    accuracy                           0.74     63959\n",
      "   macro avg       0.73      0.59      0.58     63959\n",
      "weighted avg       0.74      0.74      0.68     63959\n",
      "\n"
     ]
    }
   ],
   "source": [
    "y_pred_lr = opt.best_estimator_.predict(X_test)\n",
    "print(classification_report(y_pred_lr,y_test))"
   ]
  },
  {
   "cell_type": "code",
   "execution_count": 48,
   "id": "60b72c52-6bfa-4ddf-8b7d-60067dbfd226",
   "metadata": {},
   "outputs": [
    {
     "name": "stdout",
     "output_type": "stream",
     "text": [
      "0.7231050228310503\n"
     ]
    }
   ],
   "source": [
    "print(precision_score(y_pred_lr,y_test))"
   ]
  },
  {
   "cell_type": "code",
   "execution_count": 49,
   "id": "33f813a4-1255-45df-8420-59bbdf7160d3",
   "metadata": {},
   "outputs": [
    {
     "data": {
      "text/plain": [
       "LogisticRegression(class_weight='balanced', solver='liblinear')"
      ]
     },
     "execution_count": 49,
     "metadata": {},
     "output_type": "execute_result"
    }
   ],
   "source": [
    "opt.best_estimator_"
   ]
  }
 ],
 "metadata": {
  "kernelspec": {
   "display_name": "Python 3 (ipykernel)",
   "language": "python",
   "name": "python3"
  },
  "language_info": {
   "codemirror_mode": {
    "name": "ipython",
    "version": 3
   },
   "file_extension": ".py",
   "mimetype": "text/x-python",
   "name": "python",
   "nbconvert_exporter": "python",
   "pygments_lexer": "ipython3",
   "version": "3.9.3"
  }
 },
 "nbformat": 4,
 "nbformat_minor": 5
}
