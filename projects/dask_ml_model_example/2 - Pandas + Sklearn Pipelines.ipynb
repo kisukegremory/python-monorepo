{
 "cells": [
  {
   "cell_type": "code",
   "execution_count": 29,
   "id": "72f39996-e7b3-4c38-bb92-4458cc81ce94",
   "metadata": {},
   "outputs": [],
   "source": [
    "import pandas as pd\n",
    "import matplotlib.pyplot as plt\n",
    "import seaborn as sns\n",
    "from sklearn.model_selection import train_test_split\n",
    "from sklearn.linear_model import LogisticRegression\n",
    "from sklearn.metrics import accuracy_score, classification_report\n",
    "import numpy as np"
   ]
  },
  {
   "cell_type": "code",
   "execution_count": 42,
   "id": "5e79a059-14e0-4a0c-abfd-8c5c87c7db9d",
   "metadata": {},
   "outputs": [],
   "source": [
    "df = pd.read_csv(\"data/heart_2020_cleaned.csv\")"
   ]
  },
  {
   "cell_type": "code",
   "execution_count": 7,
   "id": "6e235a83-5b13-496c-bc57-a058f8cbdce2",
   "metadata": {},
   "outputs": [],
   "source": [
    "from sklearn.pipeline import Pipeline\n",
    "from sklearn.impute import SimpleImputer\n",
    "from sklearn.compose import ColumnTransformer\n",
    "from sklearn.preprocessing import OneHotEncoder, StandardScaler\n",
    "from sklearn.base import BaseEstimator, TransformerMixin\n"
   ]
  },
  {
   "cell_type": "code",
   "execution_count": 54,
   "id": "4206733f-5809-4599-b89e-2346873051c5",
   "metadata": {},
   "outputs": [],
   "source": [
    "class YesAndNoToBinaryTransformer(BaseEstimator, TransformerMixin):\n",
    "    def fit(self, x, y = None):\n",
    "        self.binary_cols = x.columns[x.nunique() == 2]\n",
    "        return self\n",
    "    def transform(self, x, y = None):\n",
    "        x_ = x.copy()\n",
    "        for col in self.binary_cols:\n",
    "            x_[col] = x_[col].replace({'No':0,'Yes':1})\n",
    "        return x_\n",
    "class ReplaceTransformer(BaseEstimator, TransformerMixin):\n",
    "    def __init__(self, col: str, to_replace: list, values: list):\n",
    "        self.col = col\n",
    "        self.to_replace = to_replace\n",
    "        self.values = values\n",
    "    def fit(self, x: pd.DataFrame, y = None):\n",
    "        return self\n",
    "    def transform(self, x: pd.DataFrame, y = None):\n",
    "        x_ = x.copy()\n",
    "        x_[self.col].replace(self.to_replace, self.values, inplace=True)\n",
    "        return x_\n",
    "class GetDummiesTransformer(BaseEstimator, TransformerMixin):\n",
    "    def __init__(self, dummies_kwargs:dict):\n",
    "        self.dummies_kwargs = dummies_kwargs\n",
    "    def fit(self, x: pd.DataFrame, y = None):\n",
    "        return self\n",
    "    def transform(self, x: pd.DataFrame, y = None):\n",
    "        x_ = x.copy()\n",
    "        x_ = pd.get_dummies(x_, **self.dummies_kwargs)\n",
    "        return x_"
   ]
  },
  {
   "cell_type": "code",
   "execution_count": 27,
   "id": "b50184a3-f675-4b46-ab39-e1eae5668c7a",
   "metadata": {},
   "outputs": [],
   "source": [
    "df['GoodSleep'] = df['SleepTime'].between(5,9).astype(int)\n",
    "df['GoodBMI'] = df['BMI'].between(15,25).astype(int)\n",
    "#df.drop(['BMI','SleepTime'],axis=1, inplace=True)"
   ]
  },
  {
   "cell_type": "code",
   "execution_count": 55,
   "id": "22bf10ed-9ab3-492d-a27c-216325c46cb2",
   "metadata": {},
   "outputs": [],
   "source": [
    "feature_preprocessor = Pipeline(\n",
    "    steps=[\n",
    "        (\"yes_and_no_tobinary\", YesAndNoToBinaryTransformer()),\n",
    "        (\"diabetic_replacer\",ReplaceTransformer('Diabetic',['Yes', 'No', 'No, borderline diabetes', 'Yes (during pregnancy)'], [1,0,0,0])),\n",
    "        (\"genhealth_replacer\",ReplaceTransformer('GenHealth',['Excellent','Very good', 'Fair', 'Good', 'Poor'],[5,4,3,2,1])),\n",
    "        (\"race_replacer\",ReplaceTransformer('Race',['American Indian/Alaskan Native','Black','Asian'], ['White','Other','Hispanic'])),\n",
    "        (\"age_replace\",ReplaceTransformer('AgeCategory',df['AgeCategory'].unique().tolist(),range(0,df['AgeCategory'].nunique()))),\n",
    "        (\"dummies\",GetDummiesTransformer(dummies_kwargs={'drop_first':True})),\n",
    "    ]\n",
    ")"
   ]
  },
  {
   "cell_type": "code",
   "execution_count": 56,
   "id": "72af2bab-efd8-47ae-9cf1-453bae7512c6",
   "metadata": {},
   "outputs": [],
   "source": [
    "df_processed = feature_preprocessor.fit_transform(df)\n",
    "\n",
    "X = df_processed.drop(['HeartDisease'],axis=1)\n",
    "y = df_processed[['HeartDisease']]\n",
    "\n",
    "X_train, X_test, y_train, y_test = train_test_split(X, y, stratify=y, test_size=0.2, random_state=42)"
   ]
  },
  {
   "cell_type": "code",
   "execution_count": 57,
   "id": "3d6b529a-fff3-4738-826d-3fc469e13c3e",
   "metadata": {},
   "outputs": [
    {
     "name": "stderr",
     "output_type": "stream",
     "text": [
      "c:\\users\\gonca\\desktop\\trabalho\\resources\\python-monorepo\\projects\\dask_ml_model_example\\.venv\\lib\\site-packages\\sklearn\\utils\\validation.py:993: DataConversionWarning: A column-vector y was passed when a 1d array was expected. Please change the shape of y to (n_samples, ), for example using ravel().\n",
      "  y = column_or_1d(y, warn=True)\n"
     ]
    },
    {
     "name": "stdout",
     "output_type": "stream",
     "text": [
      "              precision    recall  f1-score   support\n",
      "\n",
      "           0       0.74      0.97      0.84     44906\n",
      "           1       0.72      0.21      0.32     19053\n",
      "\n",
      "    accuracy                           0.74     63959\n",
      "   macro avg       0.73      0.59      0.58     63959\n",
      "weighted avg       0.74      0.74      0.69     63959\n",
      "\n"
     ]
    }
   ],
   "source": [
    "lr = LogisticRegression(solver='liblinear',class_weight='balanced')\n",
    "lr.fit(X_train,y_train)\n",
    "\n",
    "y_pred_lr = lr.predict(X_test)\n",
    "print(classification_report(y_pred_lr,y_test))"
   ]
  },
  {
   "cell_type": "code",
   "execution_count": null,
   "id": "bd29b0a4-8c10-49c6-b357-accb2d9c7ad2",
   "metadata": {},
   "outputs": [],
   "source": [
    "pipe = Pipeline(\n",
    "    steps=[(\"preprocessor\", feature_preprocessor), (\"classifier\", RandomForestClassifier())]\n",
    ")\n",
    "\n",
    "param_grid = {\n",
    "    \"classifier__n_estimators\": [200, 500],\n",
    "    \"classifier__max_features\": [\"auto\", \"sqrt\", \"log2\"],\n",
    "    \"classifier__max_depth\": [4, 5, 6, 7, 8],\n",
    "    \"classifier__criterion\": [\"gini\", \"entropy\"],\n",
    "}\n",
    "\n",
    "grid_search = GridSearchCV(pipe, param_grid=param_grid, n_jobs=1)"
   ]
  }
 ],
 "metadata": {
  "kernelspec": {
   "display_name": "Python 3 (ipykernel)",
   "language": "python",
   "name": "python3"
  },
  "language_info": {
   "codemirror_mode": {
    "name": "ipython",
    "version": 3
   },
   "file_extension": ".py",
   "mimetype": "text/x-python",
   "name": "python",
   "nbconvert_exporter": "python",
   "pygments_lexer": "ipython3",
   "version": "3.9.2"
  }
 },
 "nbformat": 4,
 "nbformat_minor": 5
}
