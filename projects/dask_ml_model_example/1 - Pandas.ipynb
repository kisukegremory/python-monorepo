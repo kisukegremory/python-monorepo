{
 "cells": [
  {
   "cell_type": "markdown",
   "id": "a91460ed-db9f-450d-bc05-e4bf73280083",
   "metadata": {},
   "source": [
    "# Personal Key Indicators of Heart Disease\n",
    "\n",
    "- https://www.kaggle.com/datasets/kamilpytlak/personal-key-indicators-of-heart-disease"
   ]
  },
  {
   "cell_type": "code",
   "execution_count": 1,
   "id": "6da0998d-ef9e-4baf-b844-f5ff67dfc4fa",
   "metadata": {},
   "outputs": [],
   "source": [
    "import pandas as pd\n",
    "import matplotlib.pyplot as plt\n",
    "import seaborn as sns\n",
    "import sweetviz as sv\n",
    "from sklearn.model_selection import train_test_split\n",
    "from sklearn.linear_model import LogisticRegression\n",
    "from sklearn.metrics import accuracy_score, classification_report\n",
    "\n",
    "%matplotlib inline"
   ]
  },
  {
   "cell_type": "markdown",
   "id": "8eea6128-99db-4b43-933c-21c790c83f47",
   "metadata": {},
   "source": [
    "# Preprocessing"
   ]
  },
  {
   "cell_type": "code",
   "execution_count": 9,
   "id": "5e85e5a7-246f-462f-b4cb-c9431f3a38dc",
   "metadata": {},
   "outputs": [],
   "source": [
    "df = pd.read_csv(\"data/heart_2020_cleaned.csv\")"
   ]
  },
  {
   "cell_type": "code",
   "execution_count": 10,
   "id": "16854fc9-87e7-4d3a-81a7-0bd65eaa07fc",
   "metadata": {},
   "outputs": [
    {
     "data": {
      "text/html": [
       "<div>\n",
       "<style scoped>\n",
       "    .dataframe tbody tr th:only-of-type {\n",
       "        vertical-align: middle;\n",
       "    }\n",
       "\n",
       "    .dataframe tbody tr th {\n",
       "        vertical-align: top;\n",
       "    }\n",
       "\n",
       "    .dataframe thead th {\n",
       "        text-align: right;\n",
       "    }\n",
       "</style>\n",
       "<table border=\"1\" class=\"dataframe\">\n",
       "  <thead>\n",
       "    <tr style=\"text-align: right;\">\n",
       "      <th></th>\n",
       "      <th>HeartDisease</th>\n",
       "      <th>BMI</th>\n",
       "      <th>Smoking</th>\n",
       "      <th>AlcoholDrinking</th>\n",
       "      <th>Stroke</th>\n",
       "      <th>PhysicalHealth</th>\n",
       "      <th>MentalHealth</th>\n",
       "      <th>DiffWalking</th>\n",
       "      <th>Sex</th>\n",
       "      <th>AgeCategory</th>\n",
       "      <th>Race</th>\n",
       "      <th>Diabetic</th>\n",
       "      <th>PhysicalActivity</th>\n",
       "      <th>GenHealth</th>\n",
       "      <th>SleepTime</th>\n",
       "      <th>Asthma</th>\n",
       "      <th>KidneyDisease</th>\n",
       "      <th>SkinCancer</th>\n",
       "    </tr>\n",
       "  </thead>\n",
       "  <tbody>\n",
       "    <tr>\n",
       "      <th>0</th>\n",
       "      <td>0</td>\n",
       "      <td>16.60</td>\n",
       "      <td>1</td>\n",
       "      <td>0</td>\n",
       "      <td>0</td>\n",
       "      <td>3.0</td>\n",
       "      <td>30.0</td>\n",
       "      <td>0</td>\n",
       "      <td>Female</td>\n",
       "      <td>55-59</td>\n",
       "      <td>White</td>\n",
       "      <td>Yes</td>\n",
       "      <td>1</td>\n",
       "      <td>Very good</td>\n",
       "      <td>5.0</td>\n",
       "      <td>1</td>\n",
       "      <td>0</td>\n",
       "      <td>1</td>\n",
       "    </tr>\n",
       "    <tr>\n",
       "      <th>1</th>\n",
       "      <td>0</td>\n",
       "      <td>20.34</td>\n",
       "      <td>0</td>\n",
       "      <td>0</td>\n",
       "      <td>1</td>\n",
       "      <td>0.0</td>\n",
       "      <td>0.0</td>\n",
       "      <td>0</td>\n",
       "      <td>Female</td>\n",
       "      <td>80 or older</td>\n",
       "      <td>White</td>\n",
       "      <td>No</td>\n",
       "      <td>1</td>\n",
       "      <td>Very good</td>\n",
       "      <td>7.0</td>\n",
       "      <td>0</td>\n",
       "      <td>0</td>\n",
       "      <td>0</td>\n",
       "    </tr>\n",
       "  </tbody>\n",
       "</table>\n",
       "</div>"
      ],
      "text/plain": [
       "   HeartDisease    BMI  Smoking  AlcoholDrinking  Stroke  PhysicalHealth  \\\n",
       "0             0  16.60        1                0       0             3.0   \n",
       "1             0  20.34        0                0       1             0.0   \n",
       "\n",
       "   MentalHealth  DiffWalking     Sex  AgeCategory   Race Diabetic  \\\n",
       "0          30.0            0  Female        55-59  White      Yes   \n",
       "1           0.0            0  Female  80 or older  White       No   \n",
       "\n",
       "   PhysicalActivity  GenHealth  SleepTime  Asthma  KidneyDisease  SkinCancer  \n",
       "0                 1  Very good        5.0       1              0           1  \n",
       "1                 1  Very good        7.0       0              0           0  "
      ]
     },
     "execution_count": 10,
     "metadata": {},
     "output_type": "execute_result"
    }
   ],
   "source": [
    "binary_cols = df.columns[df.nunique() == 2]\n",
    "for col in binary_cols:\n",
    "    df[col].replace({'No':0,'Yes':1}, inplace=True)\n",
    "df.head(2)"
   ]
  },
  {
   "cell_type": "code",
   "execution_count": null,
   "id": "32052b61-5de5-4e94-8a56-1ec3548b9483",
   "metadata": {},
   "outputs": [],
   "source": []
  },
  {
   "cell_type": "code",
   "execution_count": 11,
   "id": "0d9fbcc9-6df2-44fc-8505-68c860f082fa",
   "metadata": {},
   "outputs": [
    {
     "data": {
      "application/vnd.jupyter.widget-view+json": {
       "model_id": "2a997957b39e41b5b4b96908e9843881",
       "version_major": 2,
       "version_minor": 0
      },
      "text/plain": [
       "                                             |                                                                …"
      ]
     },
     "metadata": {},
     "output_type": "display_data"
    },
    {
     "name": "stderr",
     "output_type": "stream",
     "text": [
      "C:\\Users\\aluga.com\\Desktop\\private-repos\\python-monorepo\\projects\\dask_ml_model_example\\.venv\\lib\\site-packages\\sweetviz\\utils.py:34: FutureWarning: The series.append method is deprecated and will be removed from pandas in a future version. Use pandas.concat instead.\n",
      "  clamped_series = clamped_series.append(other_series, ignore_index=False)\n",
      "C:\\Users\\aluga.com\\Desktop\\private-repos\\python-monorepo\\projects\\dask_ml_model_example\\.venv\\lib\\site-packages\\sweetviz\\utils.py:34: FutureWarning: The series.append method is deprecated and will be removed from pandas in a future version. Use pandas.concat instead.\n",
      "  clamped_series = clamped_series.append(other_series, ignore_index=False)\n",
      "C:\\Users\\aluga.com\\Desktop\\private-repos\\python-monorepo\\projects\\dask_ml_model_example\\.venv\\lib\\site-packages\\sweetviz\\graph_associations.py:223: FutureWarning: The frame.append method is deprecated and will be removed from pandas in a future version. Use pandas.concat instead.\n",
      "  new_dataframe = new_dataframe.append(pd.Series(empty_row_dict, name=feature))\n",
      "C:\\Users\\aluga.com\\Desktop\\private-repos\\python-monorepo\\projects\\dask_ml_model_example\\.venv\\lib\\site-packages\\sweetviz\\graph_associations.py:223: FutureWarning: The frame.append method is deprecated and will be removed from pandas in a future version. Use pandas.concat instead.\n",
      "  new_dataframe = new_dataframe.append(pd.Series(empty_row_dict, name=feature))\n",
      "C:\\Users\\aluga.com\\Desktop\\private-repos\\python-monorepo\\projects\\dask_ml_model_example\\.venv\\lib\\site-packages\\sweetviz\\graph_associations.py:223: FutureWarning: The frame.append method is deprecated and will be removed from pandas in a future version. Use pandas.concat instead.\n",
      "  new_dataframe = new_dataframe.append(pd.Series(empty_row_dict, name=feature))\n",
      "C:\\Users\\aluga.com\\Desktop\\private-repos\\python-monorepo\\projects\\dask_ml_model_example\\.venv\\lib\\site-packages\\sweetviz\\graph_associations.py:223: FutureWarning: The frame.append method is deprecated and will be removed from pandas in a future version. Use pandas.concat instead.\n",
      "  new_dataframe = new_dataframe.append(pd.Series(empty_row_dict, name=feature))\n",
      "C:\\Users\\aluga.com\\Desktop\\private-repos\\python-monorepo\\projects\\dask_ml_model_example\\.venv\\lib\\site-packages\\sweetviz\\graph_associations.py:223: FutureWarning: The frame.append method is deprecated and will be removed from pandas in a future version. Use pandas.concat instead.\n",
      "  new_dataframe = new_dataframe.append(pd.Series(empty_row_dict, name=feature))\n",
      "C:\\Users\\aluga.com\\Desktop\\private-repos\\python-monorepo\\projects\\dask_ml_model_example\\.venv\\lib\\site-packages\\sweetviz\\graph_associations.py:223: FutureWarning: The frame.append method is deprecated and will be removed from pandas in a future version. Use pandas.concat instead.\n",
      "  new_dataframe = new_dataframe.append(pd.Series(empty_row_dict, name=feature))\n",
      "C:\\Users\\aluga.com\\Desktop\\private-repos\\python-monorepo\\projects\\dask_ml_model_example\\.venv\\lib\\site-packages\\sweetviz\\graph_associations.py:223: FutureWarning: The frame.append method is deprecated and will be removed from pandas in a future version. Use pandas.concat instead.\n",
      "  new_dataframe = new_dataframe.append(pd.Series(empty_row_dict, name=feature))\n",
      "C:\\Users\\aluga.com\\Desktop\\private-repos\\python-monorepo\\projects\\dask_ml_model_example\\.venv\\lib\\site-packages\\sweetviz\\graph_associations.py:223: FutureWarning: The frame.append method is deprecated and will be removed from pandas in a future version. Use pandas.concat instead.\n",
      "  new_dataframe = new_dataframe.append(pd.Series(empty_row_dict, name=feature))\n",
      "C:\\Users\\aluga.com\\Desktop\\private-repos\\python-monorepo\\projects\\dask_ml_model_example\\.venv\\lib\\site-packages\\sweetviz\\graph_associations.py:223: FutureWarning: The frame.append method is deprecated and will be removed from pandas in a future version. Use pandas.concat instead.\n",
      "  new_dataframe = new_dataframe.append(pd.Series(empty_row_dict, name=feature))\n",
      "C:\\Users\\aluga.com\\Desktop\\private-repos\\python-monorepo\\projects\\dask_ml_model_example\\.venv\\lib\\site-packages\\sweetviz\\graph_associations.py:223: FutureWarning: The frame.append method is deprecated and will be removed from pandas in a future version. Use pandas.concat instead.\n",
      "  new_dataframe = new_dataframe.append(pd.Series(empty_row_dict, name=feature))\n",
      "C:\\Users\\aluga.com\\Desktop\\private-repos\\python-monorepo\\projects\\dask_ml_model_example\\.venv\\lib\\site-packages\\sweetviz\\graph_associations.py:223: FutureWarning: The frame.append method is deprecated and will be removed from pandas in a future version. Use pandas.concat instead.\n",
      "  new_dataframe = new_dataframe.append(pd.Series(empty_row_dict, name=feature))\n",
      "C:\\Users\\aluga.com\\Desktop\\private-repos\\python-monorepo\\projects\\dask_ml_model_example\\.venv\\lib\\site-packages\\sweetviz\\graph_associations.py:223: FutureWarning: The frame.append method is deprecated and will be removed from pandas in a future version. Use pandas.concat instead.\n",
      "  new_dataframe = new_dataframe.append(pd.Series(empty_row_dict, name=feature))\n",
      "C:\\Users\\aluga.com\\Desktop\\private-repos\\python-monorepo\\projects\\dask_ml_model_example\\.venv\\lib\\site-packages\\sweetviz\\graph_associations.py:223: FutureWarning: The frame.append method is deprecated and will be removed from pandas in a future version. Use pandas.concat instead.\n",
      "  new_dataframe = new_dataframe.append(pd.Series(empty_row_dict, name=feature))\n",
      "C:\\Users\\aluga.com\\Desktop\\private-repos\\python-monorepo\\projects\\dask_ml_model_example\\.venv\\lib\\site-packages\\sweetviz\\graph_associations.py:223: FutureWarning: The frame.append method is deprecated and will be removed from pandas in a future version. Use pandas.concat instead.\n",
      "  new_dataframe = new_dataframe.append(pd.Series(empty_row_dict, name=feature))\n",
      "C:\\Users\\aluga.com\\Desktop\\private-repos\\python-monorepo\\projects\\dask_ml_model_example\\.venv\\lib\\site-packages\\sweetviz\\graph_associations.py:223: FutureWarning: The frame.append method is deprecated and will be removed from pandas in a future version. Use pandas.concat instead.\n",
      "  new_dataframe = new_dataframe.append(pd.Series(empty_row_dict, name=feature))\n",
      "C:\\Users\\aluga.com\\Desktop\\private-repos\\python-monorepo\\projects\\dask_ml_model_example\\.venv\\lib\\site-packages\\sweetviz\\graph_associations.py:223: FutureWarning: The frame.append method is deprecated and will be removed from pandas in a future version. Use pandas.concat instead.\n",
      "  new_dataframe = new_dataframe.append(pd.Series(empty_row_dict, name=feature))\n",
      "C:\\Users\\aluga.com\\Desktop\\private-repos\\python-monorepo\\projects\\dask_ml_model_example\\.venv\\lib\\site-packages\\sweetviz\\graph_associations.py:223: FutureWarning: The frame.append method is deprecated and will be removed from pandas in a future version. Use pandas.concat instead.\n",
      "  new_dataframe = new_dataframe.append(pd.Series(empty_row_dict, name=feature))\n",
      "C:\\Users\\aluga.com\\Desktop\\private-repos\\python-monorepo\\projects\\dask_ml_model_example\\.venv\\lib\\site-packages\\sweetviz\\graph_associations.py:223: FutureWarning: The frame.append method is deprecated and will be removed from pandas in a future version. Use pandas.concat instead.\n",
      "  new_dataframe = new_dataframe.append(pd.Series(empty_row_dict, name=feature))\n"
     ]
    },
    {
     "name": "stdout",
     "output_type": "stream",
     "text": [
      "Report sweetviz_report.html was generated! NOTEBOOK/COLAB USERS: the web browser MAY not pop up, regardless, the report IS saved in your notebook/colab files.\n"
     ]
    }
   ],
   "source": [
    "sweet_report = sv.analyze(df,\"HeartDisease\")\n",
    "sweet_report.show_html('sweetviz_report.html')"
   ]
  },
  {
   "cell_type": "markdown",
   "id": "bb5fb438-282e-4b04-a487-92aef797e3ff",
   "metadata": {},
   "source": [
    "# Feature Enginnering"
   ]
  },
  {
   "cell_type": "code",
   "execution_count": 5,
   "id": "c381a7e8-febb-4b8b-974c-5295e274b3c4",
   "metadata": {},
   "outputs": [],
   "source": [
    "df['Diabetic'].replace(['Yes', 'No', 'No, borderline diabetes', 'Yes (during pregnancy)'], [1,0,0,0], inplace=True)\n",
    "df['GenHealth'].replace(['Excellent','Very good', 'Fair', 'Good', 'Poor'],[5,4,3,2,1] ,inplace=True)\n",
    "df['Race'].replace(['American Indian/Alaskan Native','Black','Asian'], ['White','Other','Hispanic'],inplace=True)\n",
    "df['AgeCategory'].replace(df['AgeCategory'].unique().tolist(),range(0,df['AgeCategory'].nunique()), inplace=True)\n",
    "df = pd.get_dummies(df, drop_first=True)"
   ]
  },
  {
   "cell_type": "code",
   "execution_count": 6,
   "id": "0247f828-a9ac-4ec8-979b-ebc87c9c25a1",
   "metadata": {},
   "outputs": [
    {
     "data": {
      "text/plain": [
       "BMI\n",
       "False    0.095155\n",
       "True     0.065360\n",
       "Name: HeartDisease, dtype: float64"
      ]
     },
     "execution_count": 6,
     "metadata": {},
     "output_type": "execute_result"
    }
   ],
   "source": [
    "df.groupby(df['BMI'].between(15,25))['HeartDisease'].mean()"
   ]
  },
  {
   "cell_type": "code",
   "execution_count": 7,
   "id": "0581bb7f-fd3d-47ec-be8e-7cee34dbcf72",
   "metadata": {},
   "outputs": [],
   "source": [
    "df['GoodSleep'] = df['SleepTime'].between(5,9).astype(int)\n",
    "df['GoodBMI'] = df['BMI'].between(15,25).astype(int)\n",
    "#df.drop(['BMI','SleepTime'],axis=1, inplace=True)"
   ]
  },
  {
   "cell_type": "code",
   "execution_count": 8,
   "id": "ecf3d4c9-8fa2-49aa-9730-80b2096c8886",
   "metadata": {},
   "outputs": [
    {
     "data": {
      "application/vnd.jupyter.widget-view+json": {
       "model_id": "79ed83e83fe04be9aa2fdbe0d605248b",
       "version_major": 2,
       "version_minor": 0
      },
      "text/plain": [
       "                                             |                                                                …"
      ]
     },
     "metadata": {},
     "output_type": "display_data"
    },
    {
     "name": "stderr",
     "output_type": "stream",
     "text": [
      "C:\\Users\\aluga.com\\Desktop\\private-repos\\python-monorepo\\projects\\dask_ml_model_example\\.venv\\lib\\site-packages\\sweetviz\\graph_associations.py:223: FutureWarning: The frame.append method is deprecated and will be removed from pandas in a future version. Use pandas.concat instead.\n",
      "  new_dataframe = new_dataframe.append(pd.Series(empty_row_dict, name=feature))\n",
      "C:\\Users\\aluga.com\\Desktop\\private-repos\\python-monorepo\\projects\\dask_ml_model_example\\.venv\\lib\\site-packages\\sweetviz\\graph_associations.py:223: FutureWarning: The frame.append method is deprecated and will be removed from pandas in a future version. Use pandas.concat instead.\n",
      "  new_dataframe = new_dataframe.append(pd.Series(empty_row_dict, name=feature))\n",
      "C:\\Users\\aluga.com\\Desktop\\private-repos\\python-monorepo\\projects\\dask_ml_model_example\\.venv\\lib\\site-packages\\sweetviz\\graph_associations.py:223: FutureWarning: The frame.append method is deprecated and will be removed from pandas in a future version. Use pandas.concat instead.\n",
      "  new_dataframe = new_dataframe.append(pd.Series(empty_row_dict, name=feature))\n",
      "C:\\Users\\aluga.com\\Desktop\\private-repos\\python-monorepo\\projects\\dask_ml_model_example\\.venv\\lib\\site-packages\\sweetviz\\graph_associations.py:223: FutureWarning: The frame.append method is deprecated and will be removed from pandas in a future version. Use pandas.concat instead.\n",
      "  new_dataframe = new_dataframe.append(pd.Series(empty_row_dict, name=feature))\n",
      "C:\\Users\\aluga.com\\Desktop\\private-repos\\python-monorepo\\projects\\dask_ml_model_example\\.venv\\lib\\site-packages\\sweetviz\\graph_associations.py:223: FutureWarning: The frame.append method is deprecated and will be removed from pandas in a future version. Use pandas.concat instead.\n",
      "  new_dataframe = new_dataframe.append(pd.Series(empty_row_dict, name=feature))\n",
      "C:\\Users\\aluga.com\\Desktop\\private-repos\\python-monorepo\\projects\\dask_ml_model_example\\.venv\\lib\\site-packages\\sweetviz\\graph_associations.py:223: FutureWarning: The frame.append method is deprecated and will be removed from pandas in a future version. Use pandas.concat instead.\n",
      "  new_dataframe = new_dataframe.append(pd.Series(empty_row_dict, name=feature))\n",
      "C:\\Users\\aluga.com\\Desktop\\private-repos\\python-monorepo\\projects\\dask_ml_model_example\\.venv\\lib\\site-packages\\sweetviz\\graph_associations.py:223: FutureWarning: The frame.append method is deprecated and will be removed from pandas in a future version. Use pandas.concat instead.\n",
      "  new_dataframe = new_dataframe.append(pd.Series(empty_row_dict, name=feature))\n",
      "C:\\Users\\aluga.com\\Desktop\\private-repos\\python-monorepo\\projects\\dask_ml_model_example\\.venv\\lib\\site-packages\\sweetviz\\graph_associations.py:223: FutureWarning: The frame.append method is deprecated and will be removed from pandas in a future version. Use pandas.concat instead.\n",
      "  new_dataframe = new_dataframe.append(pd.Series(empty_row_dict, name=feature))\n",
      "C:\\Users\\aluga.com\\Desktop\\private-repos\\python-monorepo\\projects\\dask_ml_model_example\\.venv\\lib\\site-packages\\sweetviz\\graph_associations.py:223: FutureWarning: The frame.append method is deprecated and will be removed from pandas in a future version. Use pandas.concat instead.\n",
      "  new_dataframe = new_dataframe.append(pd.Series(empty_row_dict, name=feature))\n",
      "C:\\Users\\aluga.com\\Desktop\\private-repos\\python-monorepo\\projects\\dask_ml_model_example\\.venv\\lib\\site-packages\\sweetviz\\graph_associations.py:223: FutureWarning: The frame.append method is deprecated and will be removed from pandas in a future version. Use pandas.concat instead.\n",
      "  new_dataframe = new_dataframe.append(pd.Series(empty_row_dict, name=feature))\n",
      "C:\\Users\\aluga.com\\Desktop\\private-repos\\python-monorepo\\projects\\dask_ml_model_example\\.venv\\lib\\site-packages\\sweetviz\\graph_associations.py:223: FutureWarning: The frame.append method is deprecated and will be removed from pandas in a future version. Use pandas.concat instead.\n",
      "  new_dataframe = new_dataframe.append(pd.Series(empty_row_dict, name=feature))\n",
      "C:\\Users\\aluga.com\\Desktop\\private-repos\\python-monorepo\\projects\\dask_ml_model_example\\.venv\\lib\\site-packages\\sweetviz\\graph_associations.py:223: FutureWarning: The frame.append method is deprecated and will be removed from pandas in a future version. Use pandas.concat instead.\n",
      "  new_dataframe = new_dataframe.append(pd.Series(empty_row_dict, name=feature))\n",
      "C:\\Users\\aluga.com\\Desktop\\private-repos\\python-monorepo\\projects\\dask_ml_model_example\\.venv\\lib\\site-packages\\sweetviz\\graph_associations.py:223: FutureWarning: The frame.append method is deprecated and will be removed from pandas in a future version. Use pandas.concat instead.\n",
      "  new_dataframe = new_dataframe.append(pd.Series(empty_row_dict, name=feature))\n",
      "C:\\Users\\aluga.com\\Desktop\\private-repos\\python-monorepo\\projects\\dask_ml_model_example\\.venv\\lib\\site-packages\\sweetviz\\graph_associations.py:223: FutureWarning: The frame.append method is deprecated and will be removed from pandas in a future version. Use pandas.concat instead.\n",
      "  new_dataframe = new_dataframe.append(pd.Series(empty_row_dict, name=feature))\n",
      "C:\\Users\\aluga.com\\Desktop\\private-repos\\python-monorepo\\projects\\dask_ml_model_example\\.venv\\lib\\site-packages\\sweetviz\\graph_associations.py:223: FutureWarning: The frame.append method is deprecated and will be removed from pandas in a future version. Use pandas.concat instead.\n",
      "  new_dataframe = new_dataframe.append(pd.Series(empty_row_dict, name=feature))\n",
      "C:\\Users\\aluga.com\\Desktop\\private-repos\\python-monorepo\\projects\\dask_ml_model_example\\.venv\\lib\\site-packages\\sweetviz\\graph_associations.py:223: FutureWarning: The frame.append method is deprecated and will be removed from pandas in a future version. Use pandas.concat instead.\n",
      "  new_dataframe = new_dataframe.append(pd.Series(empty_row_dict, name=feature))\n",
      "C:\\Users\\aluga.com\\Desktop\\private-repos\\python-monorepo\\projects\\dask_ml_model_example\\.venv\\lib\\site-packages\\sweetviz\\graph_associations.py:223: FutureWarning: The frame.append method is deprecated and will be removed from pandas in a future version. Use pandas.concat instead.\n",
      "  new_dataframe = new_dataframe.append(pd.Series(empty_row_dict, name=feature))\n",
      "C:\\Users\\aluga.com\\Desktop\\private-repos\\python-monorepo\\projects\\dask_ml_model_example\\.venv\\lib\\site-packages\\sweetviz\\graph_associations.py:223: FutureWarning: The frame.append method is deprecated and will be removed from pandas in a future version. Use pandas.concat instead.\n",
      "  new_dataframe = new_dataframe.append(pd.Series(empty_row_dict, name=feature))\n",
      "C:\\Users\\aluga.com\\Desktop\\private-repos\\python-monorepo\\projects\\dask_ml_model_example\\.venv\\lib\\site-packages\\sweetviz\\graph_associations.py:223: FutureWarning: The frame.append method is deprecated and will be removed from pandas in a future version. Use pandas.concat instead.\n",
      "  new_dataframe = new_dataframe.append(pd.Series(empty_row_dict, name=feature))\n"
     ]
    },
    {
     "name": "stdout",
     "output_type": "stream",
     "text": [
      "Report sweetviz_report.html was generated! NOTEBOOK/COLAB USERS: the web browser MAY not pop up, regardless, the report IS saved in your notebook/colab files.\n"
     ]
    }
   ],
   "source": [
    "sweet_report = sv.analyze(df,\"HeartDisease\")\n",
    "sweet_report.show_html('sweetviz_report.html')"
   ]
  },
  {
   "cell_type": "code",
   "execution_count": 10,
   "id": "636ad7fd-d2dd-4890-b2f0-e766bde61c5f",
   "metadata": {},
   "outputs": [],
   "source": [
    "X = df.drop(['HeartDisease'],axis=1)\n",
    "y = df[['HeartDisease']]\n",
    "\n",
    "X_train, X_test, y_train, y_test = train_test_split(X, y, stratify=y, test_size=0.2, random_state=42)"
   ]
  },
  {
   "cell_type": "code",
   "execution_count": 13,
   "id": "472f77d0-df99-428d-b9b3-b027e2a7c6a8",
   "metadata": {},
   "outputs": [
    {
     "name": "stderr",
     "output_type": "stream",
     "text": [
      "c:\\users\\gonca\\appdata\\local\\pypoetry\\cache\\virtualenvs\\python-monorepo-hrojkeze-py3.9\\lib\\site-packages\\sklearn\\utils\\validation.py:993: DataConversionWarning: A column-vector y was passed when a 1d array was expected. Please change the shape of y to (n_samples, ), for example using ravel().\n",
      "  y = column_or_1d(y, warn=True)\n"
     ]
    }
   ],
   "source": [
    "lr = LogisticRegression(solver='liblinear',class_weight='balanced')\n",
    "lr.fit(X_train,y_train)\n",
    "\n",
    "y_pred_lr = lr.predict(X_test)\n",
    "print(classification_report(y_pred_lr,y_test))"
   ]
  },
  {
   "cell_type": "code",
   "execution_count": 14,
   "id": "2d51267a-907f-43c7-93c6-7e29802bd373",
   "metadata": {},
   "outputs": [
    {
     "name": "stdout",
     "output_type": "stream",
     "text": [
      "              precision    recall  f1-score   support\n",
      "\n",
      "           0       0.74      0.97      0.84     44717\n",
      "           1       0.72      0.21      0.32     19242\n",
      "\n",
      "    accuracy                           0.74     63959\n",
      "   macro avg       0.73      0.59      0.58     63959\n",
      "weighted avg       0.73      0.74      0.68     63959\n",
      "\n"
     ]
    }
   ],
   "source": [
    "print(classification_report(y_pred_lr,y_test))"
   ]
  },
  {
   "cell_type": "code",
   "execution_count": 31,
   "id": "20e42ee6-1fab-4210-9a92-6d4d40b56d23",
   "metadata": {},
   "outputs": [
    {
     "data": {
      "text/plain": [
       "<AxesSubplot:>"
      ]
     },
     "execution_count": 31,
     "metadata": {},
     "output_type": "execute_result"
    },
    {
     "data": {
      "image/png": "[encoded data removed]",
      "text/plain": [
       "<Figure size 432x288 with 1 Axes>"
      ]
     },
     "metadata": {
      "needs_background": "light"
     },
     "output_type": "display_data"
    }
   ],
   "source": [
    "pd.Series(index=lr.feature_names_in_,data=lr.coef_.flatten()).sort_values().plot(kind='bar')"
   ]
  },
  {
   "cell_type": "code",
   "execution_count": null,
   "id": "38432237-12d2-450d-a593-9e37d2f6c26a",
   "metadata": {},
   "outputs": [],
   "source": []
  }
 ],
 "metadata": {
  "kernelspec": {
   "display_name": "Python 3 (ipykernel)",
   "language": "python",
   "name": "python3"
  },
  "language_info": {
   "codemirror_mode": {
    "name": "ipython",
    "version": 3
   },
   "file_extension": ".py",
   "mimetype": "text/x-python",
   "name": "python",
   "nbconvert_exporter": "python",
   "pygments_lexer": "ipython3",
   "version": "3.9.3"
  }
 },
 "nbformat": 4,
 "nbformat_minor": 5
}
