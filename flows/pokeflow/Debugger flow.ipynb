{
 "cells": [
  {
   "cell_type": "code",
   "execution_count": 1,
   "id": "fa0e5b46",
   "metadata": {},
   "outputs": [],
   "source": [
    "%load_ext autoreload\n",
    "%autoreload 2"
   ]
  },
  {
   "cell_type": "code",
   "execution_count": 32,
   "id": "a92b4bee",
   "metadata": {},
   "outputs": [],
   "source": [
    "import httpx\n",
    "import asyncio\n",
    "import pandas as pd\n",
    "from sqlalchemy.ext.asyncio import AsyncSession\n",
    "from sqlalchemy.future import select\n",
    "from sqlalchemy.orm import sessionmaker\n",
    "from sqlalchemy.ext.asyncio import create_async_engine"
   ]
  },
  {
   "cell_type": "code",
   "execution_count": 5,
   "id": "e0f4a1da",
   "metadata": {},
   "outputs": [],
   "source": [
    "from pokemon.typing import Pokemon\n",
    "from pokemon import db, api"
   ]
  },
  {
   "cell_type": "code",
   "execution_count": 6,
   "id": "74f862ec",
   "metadata": {},
   "outputs": [],
   "source": [
    "poke_requests = [api.get_pokemon_by_id(n) for n in range(1,700)]"
   ]
  },
  {
   "cell_type": "code",
   "execution_count": 7,
   "id": "de1a1bce",
   "metadata": {},
   "outputs": [],
   "source": [
    "async def fetch_requests(requests):\n",
    "    async with httpx.AsyncClient() as client:\n",
    "        poke_tasks = [client.send(request) for request in requests]\n",
    "        return await asyncio.gather(*poke_tasks)"
   ]
  },
  {
   "cell_type": "code",
   "execution_count": 8,
   "id": "147232a5",
   "metadata": {},
   "outputs": [],
   "source": [
    "poke_responses = await fetch_requests(poke_requests)"
   ]
  },
  {
   "cell_type": "code",
   "execution_count": 12,
   "id": "3de4f5d2",
   "metadata": {},
   "outputs": [],
   "source": [
    "pokemons = [Pokemon(**response.json()) for response in poke_responses[:700]]\n",
    "pokemons_orm = [db.Pokemons(**pokemon.dict()) for pokemon in pokemons]"
   ]
  },
  {
   "cell_type": "code",
   "execution_count": 14,
   "id": "e7e6e38f",
   "metadata": {},
   "outputs": [],
   "source": [
    "uri = 'sqlite+aiosqlite:///example.db'\n",
    "engine = create_async_engine(uri)\n",
    "metadata = db.Pokemons.metadata"
   ]
  },
  {
   "cell_type": "code",
   "execution_count": 17,
   "id": "34036378",
   "metadata": {},
   "outputs": [],
   "source": [
    "async with engine.begin() as conn:\n",
    "    await conn.run_sync(metadata.drop_all)\n",
    "    await conn.run_sync(metadata.create_all)"
   ]
  },
  {
   "cell_type": "code",
   "execution_count": 20,
   "id": "e7d3a006",
   "metadata": {},
   "outputs": [],
   "source": [
    "async_session = sessionmaker(\n",
    "        engine, expire_on_commit=False, class_=AsyncSession\n",
    ")"
   ]
  },
  {
   "cell_type": "code",
   "execution_count": 21,
   "id": "4a5366d2",
   "metadata": {},
   "outputs": [],
   "source": [
    "async with async_session() as session:\n",
    "    async with session.begin():\n",
    "        session.add_all(pokemons_orm)\n",
    "    await session.commit()"
   ]
  },
  {
   "cell_type": "code",
   "execution_count": 56,
   "id": "f2293609",
   "metadata": {},
   "outputs": [],
   "source": [
    "async with async_session() as session:\n",
    "    stmt = select(db.Pokemons)\n",
    "    result = await session.execute(stmt)\n",
    "    queried_pokemons = [Pokemon(**row.__dict__) for row in result.scalars()]"
   ]
  }
 ],
 "metadata": {
  "kernelspec": {
   "display_name": "Python 3 (ipykernel)",
   "language": "python",
   "name": "python3"
  },
  "language_info": {
   "codemirror_mode": {
    "name": "ipython",
    "version": 3
   },
   "file_extension": ".py",
   "mimetype": "text/x-python",
   "name": "python",
   "nbconvert_exporter": "python",
   "pygments_lexer": "ipython3",
   "version": "3.9.2"
  },
  "toc": {
   "base_numbering": 1,
   "nav_menu": {},
   "number_sections": true,
   "sideBar": true,
   "skip_h1_title": false,
   "title_cell": "Table of Contents",
   "title_sidebar": "Contents",
   "toc_cell": false,
   "toc_position": {},
   "toc_section_display": true,
   "toc_window_display": false
  }
 },
 "nbformat": 4,
 "nbformat_minor": 5
}
